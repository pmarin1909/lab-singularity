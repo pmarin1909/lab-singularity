{
 "cells": [
  {
   "cell_type": "markdown",
   "id": "f942d288-be01-42cd-9b84-83529c6769be",
   "metadata": {},
   "source": [
    "### Reduction operation: the sum of the numbers in the range [0, a)"
   ]
  },
  {
   "cell_type": "code",
   "execution_count": 1,
   "id": "496946fa-2a28-4c1d-8a6a-2ee0b8fd8ced",
   "metadata": {},
   "outputs": [
    {
     "name": "stdout",
     "output_type": "stream",
     "text": [
      "Time taken by reduction operation: 0.26180481910705566 seconds\n",
      "259 ms ± 1.1 ms per loop (mean ± std. dev. of 2 runs, 1 loop each)\n",
      "\n",
      " \t Computing the sum of numbers in the range [0, value): 499999500000\n",
      "\n"
     ]
    }
   ],
   "source": [
    "import time\n",
    "\n",
    "def reduc_operation(a):\n",
    "    x = 0\n",
    "    for i in range(a):\n",
    "        x += i\n",
    "    return x\n",
    "\n",
    "# Secuencial\n",
    "\n",
    "value = 1000000\n",
    "# Leer el número de elementos desde los argumentos de línea de comandos\n",
    "# value = int(sys.argv[1]) if len(sys.argv) > 1 else 10**6\n",
    "\n",
    "initialTime = time.time()\n",
    "suma = reduc_operation(value)\n",
    "finalTime = time.time()\n",
    "\n",
    "print(\"Time taken by reduction operation:\", (finalTime - initialTime), \"seconds\")\n",
    "\n",
    "# Utilizando las operaciones mágicas de ipython\n",
    "%timeit -r 2 reduc_operation(value)\n",
    "\n",
    "print(f\"\\n \\t Computing the sum of numbers in the range [0, value): {suma}\\n\")"
   ]
  },
  {
   "cell_type": "markdown",
   "id": "80cc330a",
   "metadata": {},
   "source": [
    "### Primera modificación : lists"
   ]
  },
  {
   "cell_type": "code",
   "execution_count": 45,
   "id": "3c6faf2a-6986-4023-be66-672c3be5d193",
   "metadata": {},
   "outputs": [
    {
     "name": "stdout",
     "output_type": "stream",
     "text": [
      "Resultado bucle for:\n",
      "215 ms ± 1.82 ms per loop (mean ± std. dev. of 2 runs, 1 loop each)\n",
      "\n",
      "Resultado función 'sum':\n",
      "30 ms ± 16.9 µs per loop (mean ± std. dev. of 2 runs, 10 loops each)\n"
     ]
    }
   ],
   "source": [
    "# En este caso le pasamos a la función una lista directamente\n",
    "rango = range(value)\n",
    "lista = list(rango)\n",
    "\n",
    "# Opción a : bucle for\n",
    "def reduc_operation_listFor(lista):    \n",
    "    suma = 0\n",
    "    for elemento in lista:\n",
    "        suma += elemento\n",
    "    return suma\n",
    "\n",
    "print(\"Resultado bucle for:\")\n",
    "%timeit -r 2 suma = reduc_operation_listFor(lista)\n",
    "\n",
    "\n",
    "\n",
    "\n",
    "# Opción b : función 'sum'\n",
    "def reduc_operation_listSum(lista):\n",
    "    return sum(lista)\n",
    "\n",
    "print(\"\\nResultado función 'sum':\")\n",
    "%timeit -r 2 suma = reduc_operation_listSum(lista)"
   ]
  },
  {
   "cell_type": "markdown",
   "id": "7d54a19d",
   "metadata": {},
   "source": [
    "### Segunda modificación : numpy"
   ]
  },
  {
   "cell_type": "code",
   "execution_count": 48,
   "id": "68e34280",
   "metadata": {},
   "outputs": [
    {
     "name": "stdout",
     "output_type": "stream",
     "text": [
      "Resultado bucle for:\n",
      "636 ms ± 12.4 ms per loop (mean ± std. dev. of 2 runs, 1 loop each)\n",
      "\n",
      "Resultado función 'sum':\n",
      "1.36 ms ± 6.79 µs per loop (mean ± std. dev. of 2 runs, 1,000 loops each)\n"
     ]
    }
   ],
   "source": [
    "import numpy as np \n",
    "\n",
    "# Convertimos la lista anterior en un array de numpy\n",
    "array = np.array(list(rango))\n",
    "\n",
    "# Opción a : bucle for\n",
    "def reduc_operation_arrayFor(array):\n",
    "    suma = 0\n",
    "    for elemento in array:\n",
    "        suma += elemento\n",
    "    return suma\n",
    "\n",
    "print(\"Resultado bucle for:\")\n",
    "%timeit -r 2 suma = reduc_operation_arrayFor(array)\n",
    "\n",
    "\n",
    "# Opción b : función 'sum'\n",
    "def reduc_operation_arraySum(array):\n",
    "    return np.sum(array)\n",
    "\n",
    "print(\"\\nResultado función 'sum':\")\n",
    "%timeit -r 2 suma = reduc_operation_arraySum(array)"
   ]
  },
  {
   "cell_type": "markdown",
   "id": "76cc5f25",
   "metadata": {},
   "source": [
    "### Conclusiones obtenidas "
   ]
  },
  {
   "cell_type": "raw",
   "id": "78fdb3b6",
   "metadata": {},
   "source": [
    "- lists vs for: El tiempo de ejecución de la suma con una lista estándar puede ser mayor debido a que si se usa un bucle for para sumar manualmente los elementos, cada iteración del bucle implica acceso y operaciones individuales, lo que puede ser menos eficiente en términos de tiempo, especialmente con grandes volúmenes de datos.\n",
    "\n",
    "- numpy vs lists: NumPy realiza operaciones vectorizadas que pueden aprovechar las capacidades de procesamiento paralelo de la CPU, lo que acelera las operaciones numéricas. Además, las funciones de NumPy están implementadas en C, lo que proporciona un acceso rápido a la memoria y una ejecución eficiente de las operaciones."
   ]
  },
  {
   "cell_type": "markdown",
   "id": "81812584",
   "metadata": {},
   "source": [
    "\n",
    "### Aplicación del paquete numba"
   ]
  },
  {
   "cell_type": "code",
   "execution_count": 47,
   "id": "c79f8b9d",
   "metadata": {
    "scrolled": true
   },
   "outputs": [
    {
     "name": "stdout",
     "output_type": "stream",
     "text": [
      "Resultado bucle for:\n",
      "1.71 ms ± 31 µs per loop (mean ± std. dev. of 7 runs, 1 loop each)\n",
      "\n",
      "Resultado función 'sum':\n",
      "997 µs ± 17.5 µs per loop (mean ± std. dev. of 7 runs, 1 loop each)\n"
     ]
    }
   ],
   "source": [
    "# COPIA DE LA CELDA DONDE USAMOS NUMPY -----------------\n",
    "\n",
    "from numba import njit\n",
    "\n",
    "# Convertimos la lista anterior en un array de numpy\n",
    "array = np.array(list(rango))\n",
    "\n",
    "# Opción a : bucle for\n",
    "@njit\n",
    "def reduc_operation_numbaFor(array):\n",
    "    suma = 0\n",
    "    for elemento in array:\n",
    "        suma += elemento\n",
    "    return suma\n",
    "\n",
    "print(\"Resultado bucle for:\")\n",
    "%timeit suma = reduc_operation_numbaFor(array)\n",
    "\n",
    "\n",
    "# Opción b : función 'sum'\n",
    "@njit\n",
    "def reduc_operation_numbaSum(array):\n",
    "    return np.sum(array)\n",
    "\n",
    "print(\"\\nResultado función 'sum':\")\n",
    "%timeit suma2 = reduc_operation_numbaSum(array)"
   ]
  },
  {
   "cell_type": "markdown",
   "id": "ddca26c6",
   "metadata": {},
   "source": [
    "\n",
    "### Conclusiones obtenidas"
   ]
  },
  {
   "cell_type": "raw",
   "id": "b9343b9c",
   "metadata": {},
   "source": [
    "Podemos observar una mejora notable en el tiempo de ejecución al aplicar @njit. Varias causas:\n",
    "\n",
    "- Python es un lenguaje interpretado, es decir se traduce el código a instrucciones de máquina en tiempo de ejecución. Este proceso es lento comparado con el código precompilado. Numba elimina este overhead al compilar el código directamente a instrucciones de máquina.\n",
    "\n",
    "- Los bucles en Python tienen un costo significativo debido a la necesidad de múltiples operaciones a nivel de intérprete. Numba optimiza los bucles para ejecutarlos de manera más eficiente en el hardware.\n",
    "\n",
    "- Numba puede acceder a los datos de manera más eficiente, especialmente cuando se trabaja con arrays de NumPy, debido a que opera a nivel de memoria y evita la sobrecarga de las abstracciones de alto nivel de Python."
   ]
  }
 ],
 "metadata": {
  "kernelspec": {
   "display_name": "Python 3 (ipykernel)",
   "language": "python",
   "name": "python3"
  },
  "language_info": {
   "codemirror_mode": {
    "name": "ipython",
    "version": 3
   },
   "file_extension": ".py",
   "mimetype": "text/x-python",
   "name": "python",
   "nbconvert_exporter": "python",
   "pygments_lexer": "ipython3",
   "version": "3.10.9"
  }
 },
 "nbformat": 4,
 "nbformat_minor": 5
}
